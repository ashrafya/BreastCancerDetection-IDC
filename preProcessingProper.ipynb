{
 "cells": [
  {
   "cell_type": "code",
   "execution_count": null,
   "metadata": {
    "id": "6rdVwJ70bmXf"
   },
   "outputs": [],
   "source": [
    "! pip install -q kaggle"
   ]
  },
  {
   "cell_type": "code",
   "execution_count": null,
   "metadata": {
    "colab": {
     "base_uri": "https://localhost:8080/",
     "height": 89,
     "resources": {
      "http://localhost:8080/nbextensions/google.colab/files.js": {
       "data": "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",
       "headers": [
        [
         "content-type",
         "application/javascript"
        ]
       ],
       "ok": true,
       "status": 200,
       "status_text": ""
      }
     }
    },
    "id": "J1pg2gQbbwyt",
    "outputId": "faa6a8bc-81d0-4842-c523-39679eee0f91"
   },
   "outputs": [],
   "source": [
    "from google.colab import files\n",
    "files.upload()"
   ]
  },
  {
   "cell_type": "code",
   "execution_count": null,
   "metadata": {
    "id": "Hv0UsHJabxE-"
   },
   "outputs": [],
   "source": [
    "! mkdir ~/.kaggle"
   ]
  },
  {
   "cell_type": "code",
   "execution_count": null,
   "metadata": {
    "id": "L9la_RLQcBdD"
   },
   "outputs": [],
   "source": [
    "! cp kaggle.json ~/.kaggle/"
   ]
  },
  {
   "cell_type": "code",
   "execution_count": null,
   "metadata": {
    "id": "gEgWruc3cC-R"
   },
   "outputs": [],
   "source": [
    "! chmod 600 ~/.kaggle/kaggle.json"
   ]
  },
  {
   "cell_type": "code",
   "execution_count": null,
   "metadata": {
    "id": "vWpYBmmqcIoZ"
   },
   "outputs": [],
   "source": [
    "! kaggle datasets list"
   ]
  },
  {
   "cell_type": "code",
   "execution_count": null,
   "metadata": {
    "colab": {
     "base_uri": "https://localhost:8080/"
    },
    "id": "ExWhsbpkcP8F",
    "outputId": "75e20e72-e342-461f-af47-83317107d9bb"
   },
   "outputs": [],
   "source": [
    "# ! kaggle datasets download d Breast-Histopathology-Images\n",
    "\n",
    "!kaggle datasets download -d paultimothymooney/breast-histopathology-images"
   ]
  },
  {
   "cell_type": "code",
   "execution_count": null,
   "metadata": {
    "id": "EREWA_d7d09_"
   },
   "outputs": [],
   "source": [
    "! unzip breast-histopathology-images.zip -d breast-histopathology-images\n",
    "\n",
    "# /content/breast-histopathology-images.zip"
   ]
  },
  {
   "cell_type": "code",
   "execution_count": null,
   "metadata": {
    "id": "4U58mQpLfHzn"
   },
   "outputs": [],
   "source": [
    "import os\n",
    "\n",
    "count = 0\n",
    "\n",
    "file0 = '/content/breast-histopathology-imagesNEW/0'\n",
    "file1 = '/content/breast-histopathology-imagesNEW/1'\n",
    "master = '/content/breast-histopathology-imagesNEW'\n",
    "\n",
    "# os.mkdir(master)\n",
    "# os.mkdir(file0)\n",
    "# os.mkdir(file1)\n",
    "\n",
    "\n",
    "\n",
    "for dirname, _, filenames in os.walk('/content/breast-histopathology-images'):\n",
    "    for filename in filenames:\n",
    "        str1 = filename[0:5]\n",
    "        str2 = '.'\n",
    "        str3 = filename[-5]\n",
    "        str4 = '.'\n",
    "        str5 = str(count)\n",
    "        str6 = '.png'\n",
    "        newname =  str1 + str2 + str3 + str4 + str5 + str6\n",
    "        \n",
    "        # old path of the file\n",
    "        oldpath = os.path.join(dirname, filename)\n",
    "        \n",
    "        # new path for files to go into directory 0 and directory 1\n",
    "        newpath0 = os.path.join(file0, newname)\n",
    "        newpath1 = os.path.join(file1, newname)\n",
    "\n",
    "\n",
    "        \n",
    "\n",
    "        # sending all 0 files to 0 folder\n",
    "        if int(str3) == 0:\n",
    "          os.rename(oldpath, newpath0)\n",
    "          print(newpath0)\n",
    "\n",
    "\n",
    "        # sending all 1 files to 1 folder\n",
    "        if int(str3) == 1:\n",
    "          os.rename(oldpath, newpath1)\n",
    "          print(newpath1)\n",
    "        count += 1\n",
    "\n",
    "  \n",
    "        # os.rename(oldpath, newpath)"
   ]
  },
  {
   "cell_type": "code",
   "execution_count": null,
   "metadata": {
    "id": "k65nvZqyvnzn"
   },
   "outputs": [],
   "source": [
    "# creating appropriate directories \n",
    "\n",
    "trainDir = '/content/breast-histopathology-imagesNEW/train'\n",
    "valDir = '/content/breast-histopathology-imagesNEW/validation'\n",
    "testDir = '/content/breast-histopathology-imagesNEW/test'\n",
    "\n",
    "os.mkdir(trainDir)\n",
    "os.mkdir(valDir)\n",
    "os.mkdir(testDir)\n",
    "\n",
    "# training directories of 0 and 1\n",
    "train0 = '/content/breast-histopathology-imagesNEW/train/0'\n",
    "train1 = '/content/breast-histopathology-imagesNEW/train/1'\n",
    "os.mkdir(train0)\n",
    "os.mkdir(train1)\n",
    "\n",
    "# validation directories of 0 and 1\n",
    "validation0 = '/content/breast-histopathology-imagesNEW/validation/0'\n",
    "validation1 = '/content/breast-histopathology-imagesNEW/validation/1'\n",
    "os.mkdir(validation0)\n",
    "os.mkdir(validation1)\n",
    "\n",
    "# testing directories of 0 and 1\n",
    "test0 = '/content/breast-histopathology-imagesNEW/test/0'\n",
    "test1 = '/content/breast-histopathology-imagesNEW/test/1'\n",
    "os.mkdir(test0)\n",
    "os.mkdir(test1)"
   ]
  },
  {
   "cell_type": "code",
   "execution_count": null,
   "metadata": {
    "colab": {
     "base_uri": "https://localhost:8080/"
    },
    "id": "-ln4TrNx4Vq0",
    "outputId": "14ab4a37-58c4-4f4c-ffe2-d3c19a201db5"
   },
   "outputs": [],
   "source": [
    "# counting how many files are present in each directory\n",
    "\n",
    "path, dirs, files = next(os.walk(\"/content/breast-histopathology-imagesNEW/0\"))\n",
    "file_count = len(files)\n",
    "print(\"number of zero files are {}\".format(file_count))\n",
    "\n",
    "path, dirs, files = next(os.walk(\"/content/breast-histopathology-imagesNEW/1\"))\n",
    "file2 = len(files)\n",
    "print(\"number of one files are {}\".format(file2))\n",
    "\n"
   ]
  },
  {
   "cell_type": "code",
   "execution_count": null,
   "metadata": {
    "id": "FOMcezWo6dVj"
   },
   "outputs": [],
   "source": [
    "# dividing data into a 0.7 0.15 0.15 split by getting the appropriate index\n",
    "\n",
    "# number of zero files\n",
    "fileNumber0 =  file_count #397477\n",
    "\n",
    "# number of one files\n",
    "fileNumber1 = file2 #157560\n",
    "\n",
    "trainIdx = [round(fileNumber0 * 0.7), round(fileNumber1 *0.7)]\n",
    "valIdx = [round(fileNumber0 * 0.85), round(fileNumber1 *0.85)]\n",
    "testIdx = [round(fileNumber0), round(fileNumber1)]\n",
    "\n",
    "print(trainIdx)\n",
    "print(valIdx)\n",
    "print(testIdx)\n",
    "\n",
    "# [278234, 110292]\n",
    "# [337855, 133926]\n",
    "# [397477, 157560]"
   ]
  },
  {
   "cell_type": "code",
   "execution_count": null,
   "metadata": {
    "id": "hdXnpcW19U2p"
   },
   "outputs": [],
   "source": [
    "directoryTrain1 = '/content/breast-histopathology-imagesNEW/train/1'\n",
    "directoryTrain0 = '/content/breast-histopathology-imagesNEW/train/0'\n",
    "directoryValidation1 = '/content/breast-histopathology-imagesNEW/validation/1'\n",
    "directoryValidation0 = '/content/breast-histopathology-imagesNEW/validation/0'\n",
    "directorytest1 = '/content/breast-histopathology-imagesNEW/test/1'\n",
    "directorytest0 = '/content/breast-histopathology-imagesNEW/test/0'\n",
    "\n",
    "\n",
    "count = 0\n",
    "# walking through the 0 directory first\n",
    "for dirname, _, filenames in os.walk('/content/breast-histopathology-imagesNEW/0'):\n",
    "    for filename in filenames:\n",
    "        oldpath = os.path.join(dirname, filename)\n",
    "\n",
    "        # upto train index eveyrthing into train0 directory\n",
    "        if count <=trainIdx[0]:\n",
    "            newpath = os.path.join(directoryTrain0, filename)\n",
    "            os.rename(oldpath, newpath)\n",
    "            print(newpath)\n",
    "\n",
    "        # upto val index into val directory\n",
    "        elif count > trainIdx[0] and count <= valIdx[0]:\n",
    "            newpath = os.path.join(directoryValidation0, filename)\n",
    "            os.rename(oldpath, newpath)\n",
    "            print(newpath)\n",
    "\n",
    "\n",
    "        # upto test index into test directory \n",
    "        elif count >valIdx[0] and count <testIdx[0]:\n",
    "            newpath = os.path.join(directorytest0, filename)\n",
    "            os.rename(oldpath, newpath)\n",
    "            print(newpath)\n",
    "\n",
    "        count += 1\n",
    "\n",
    "        if count > testIdx[0]:\n",
    "            break\n",
    "\n",
    "    if count > testIdx[0]:\n",
    "            break\n",
    "\n"
   ]
  },
  {
   "cell_type": "code",
   "execution_count": null,
   "metadata": {
    "colab": {
     "base_uri": "https://localhost:8080/"
    },
    "id": "zlL598VfAkq_",
    "outputId": "c5da1d3f-b415-4930-b7d8-7ed4b1eac0ce"
   },
   "outputs": [],
   "source": [
    "directoryTrain1 = '/content/breast-histopathology-imagesNEW/train/1'\n",
    "directoryTrain0 = '/content/breast-histopathology-imagesNEW/train/0'\n",
    "directoryValidation1 = '/content/breast-histopathology-imagesNEW/validation/1'\n",
    "directoryValidation0 = '/content/breast-histopathology-imagesNEW/validation/0'\n",
    "directorytest1 = '/content/breast-histopathology-imagesNEW/test/1'\n",
    "directorytest0 = '/content/breast-histopathology-imagesNEW/test/0'\n",
    "\n",
    "\n",
    "count = 0\n",
    "# walking through the 0 directory first\n",
    "for dirname, _, filenames in os.walk('/content/breast-histopathology-imagesNEW/1'):\n",
    "    for filename in filenames:\n",
    "        oldpath = os.path.join(dirname, filename)\n",
    "\n",
    "        # upto train index eveyrthing into train1 directory\n",
    "        if count <=trainIdx[1]:\n",
    "            newpath = os.path.join(directoryTrain1, filename)\n",
    "            os.rename(oldpath, newpath)\n",
    "            print(newpath)\n",
    "\n",
    "        # upto val index into val1 directory\n",
    "        elif count > trainIdx[1] and count <= valIdx[1]:\n",
    "            newpath = os.path.join(directoryValidation1, filename)\n",
    "            os.rename(oldpath, newpath)\n",
    "            print(newpath)\n",
    "\n",
    "\n",
    "        # upto test index into test1 directory \n",
    "        elif count >valIdx[1] and count <testIdx[1]:\n",
    "            newpath = os.path.join(directorytest1, filename)\n",
    "            os.rename(oldpath, newpath)\n",
    "            print(newpath)\n",
    "\n",
    "        count += 1\n",
    "\n",
    "        if count > testIdx[1]:\n",
    "            break\n",
    "\n",
    "    if count > testIdx[1]:\n",
    "            break\n",
    "\n"
   ]
  },
  {
   "cell_type": "code",
   "execution_count": null,
   "metadata": {
    "id": "LgWv2atxjVBH"
   },
   "outputs": [],
   "source": [
    "!zip -r /content/breast-histopathology-imagesNEW.zip /content/breast-histopathology-imagesNEW"
   ]
  }
 ],
 "metadata": {
  "colab": {
   "collapsed_sections": [],
   "name": "preProcessingProper.ipynb",
   "provenance": []
  },
  "kernelspec": {
   "display_name": "Python 3",
   "language": "python",
   "name": "python3"
  },
  "language_info": {
   "codemirror_mode": {
    "name": "ipython",
    "version": 3
   },
   "file_extension": ".py",
   "mimetype": "text/x-python",
   "name": "python",
   "nbconvert_exporter": "python",
   "pygments_lexer": "ipython3",
   "version": "3.8.5"
  }
 },
 "nbformat": 4,
 "nbformat_minor": 1
}
